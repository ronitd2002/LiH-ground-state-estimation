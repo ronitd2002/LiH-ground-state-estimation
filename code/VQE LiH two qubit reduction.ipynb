{
 "cells": [
  {
   "cell_type": "code",
   "execution_count": 1,
   "id": "e721e682",
   "metadata": {},
   "outputs": [],
   "source": [
    "from qiskit.algorithms import VQE\n",
    "from qiskit_nature.mappers.second_quantization import ParityMapper\n",
    "from qiskit_nature.converters.second_quantization import QubitConverter\n",
    "converter = QubitConverter(ParityMapper())"
   ]
  },
  {
   "cell_type": "code",
   "execution_count": 2,
   "id": "e771eb3b",
   "metadata": {},
   "outputs": [],
   "source": [
    "from qiskit_nature.algorithms import (GroundStateEigensolver,NumPyMinimumEigensolverFactory)\n",
    "\n",
    "import matplotlib.pyplot as plt\n",
    "import numpy as np#second_q.\n",
    "\n",
    "from qiskit.algorithms import VQE\n",
    "from qiskit_nature.algorithms import (GroundStateEigensolver,NumPyMinimumEigensolverFactory)\n",
    "from qiskit_nature.drivers import Molecule\n",
    "from qiskit_nature.drivers.second_quantization import (ElectronicStructureMoleculeDriver, ElectronicStructureDriverType)\n",
    "from qiskit_nature.transformers.second_quantization.electronic import FreezeCoreTransformer\n",
    "from qiskit_nature.problems.second_quantization import ElectronicStructureProblem\n",
    "from qiskit_nature.converters.second_quantization import QubitConverter\n",
    "from qiskit_nature.mappers.second_quantization import ParityMapper\n",
    "\n",
    "\n",
    "from qiskit_nature.circuit.library import UCCSD, HartreeFock\n",
    "from qiskit.circuit.library import EfficientSU2\n",
    "from qiskit.algorithms.optimizers import COBYLA, SPSA, SLSQP\n",
    "from qiskit.opflow import TwoQubitReduction\n",
    "from qiskit import BasicAer, Aer\n",
    "from qiskit.utils import QuantumInstance\n",
    "from qiskit.utils.mitigation import CompleteMeasFitter\n",
    "from qiskit.providers.aer.noise import NoiseModel"
   ]
  },
  {
   "cell_type": "code",
   "execution_count": 3,
   "id": "5cb8b15d",
   "metadata": {},
   "outputs": [],
   "source": [
    "def get_qubit_op(dist):\n",
    "    # Define Molecule\n",
    "    molecule = Molecule(\n",
    "        # Coordinates in Angstrom\n",
    "        geometry=[\n",
    "            [\"Li\", [0.0, 0.0, 0.0]],\n",
    "            [\"H\", [dist, 0.0, 0.0]]\n",
    "        ],\n",
    "        multiplicity=1,  # = 2*spin + 1\n",
    "        charge=0,\n",
    "    )\n",
    "\n",
    "    driver = ElectronicStructureMoleculeDriver(\n",
    "        molecule=molecule,\n",
    "        basis=\"sto3g\",\n",
    "        driver_type=ElectronicStructureDriverType.PYSCF)\n",
    "\n",
    "    # Get properties\n",
    "    properties = driver.run()\n",
    "    num_particles = (properties\n",
    "                        .get_property(\"ParticleNumber\")\n",
    "                        .num_particles)\n",
    "    num_spin_orbitals = int(properties\n",
    "                            .get_property(\"ParticleNumber\")\n",
    "                            .num_spin_orbitals)\n",
    "\n",
    "    # Define Problem, Use freeze core approximation, remove orbitals.\n",
    "    problem = ElectronicStructureProblem(\n",
    "        driver,\n",
    "        [FreezeCoreTransformer(freeze_core=True,\n",
    "                               remove_orbitals=[-3,-2])])\n",
    "\n",
    "    second_q_ops = problem.second_q_ops()  # Get 2nd Quant OP\n",
    "    num_spin_orbitals = problem.num_spin_orbitals\n",
    "    num_particles = problem.num_particles\n",
    "\n",
    "    mapper = ParityMapper()  # Set Mapper\n",
    "    hamiltonian = second_q_ops[0]  # Set Hamiltonian\n",
    "    # Do two qubit reduction\n",
    "    converter = QubitConverter(mapper) #,two_qubit_reduction=True)\n",
    "    #reducer = TwoQubitReduction(num_particles)\n",
    "    qubit_op = converter.convert(hamiltonian)\n",
    "    #qubit_op = reducer.convert(qubit_op)\n",
    "\n",
    "    return qubit_op, num_particles, num_spin_orbitals, problem, converter"
   ]
  },
  {
   "cell_type": "code",
   "execution_count": 4,
   "id": "fa0f2daf",
   "metadata": {},
   "outputs": [],
   "source": [
    "def exact_solver(converter,problem): #, converter):\n",
    "    solver = NumPyMinimumEigensolverFactory()\n",
    "    calc = GroundStateEigensolver(converter,solver) #converter,\n",
    "    result = calc.solve(problem)\n",
    "    return result\n"
   ]
  },
  {
   "cell_type": "code",
   "execution_count": 5,
   "id": "119a2910",
   "metadata": {},
   "outputs": [],
   "source": [
    "distances=np.arange(0.5,4.0,0.1)\n",
    "exact_energies = []\n",
    "vqe_energies = []\n",
    "for dist in distances:\n",
    "    (qubit_op, num_particles, num_spin_orbitals,problem,converter) = get_qubit_op(dist)\n",
    "    res=exact_solver(converter,problem)\n",
    "    vqe_result = problem.interpret(res).total_energies[0].real\n",
    "    vqe_energies.append(vqe_result)"
   ]
  },
  {
   "cell_type": "code",
   "execution_count": 17,
   "id": "1dec04a2",
   "metadata": {},
   "outputs": [
    {
     "data": {
      "image/png": "[encoded data removed]",
      "text/plain": [
       "<Figure size 720x432 with 1 Axes>"
      ]
     },
     "metadata": {
      "needs_background": "light"
     },
     "output_type": "display_data"
    }
   ],
   "source": [
    "#plt.plot(distances, exact_energies, label=\"Exact Energy\")\n",
    "plt.figure(1,figsize=(10,6))\n",
    "plt.scatter(distances, vqe_energies, label=\"VQE Energy\")\n",
    "plt.title(\"Ground State Energy of LiH Using VQE with Parity Mapping Only\")\n",
    "plt.xlabel('Atomic distance (Angstrom)')\n",
    "plt.ylabel('Energy(Ha)')\n",
    "plt.legend()\n",
    "plt.grid()\n",
    "#plt.show()\n",
    "plt.savefig('VQE11.pdf',dpi=500)"
   ]
  },
  {
   "cell_type": "code",
   "execution_count": 7,
   "id": "76162705",
   "metadata": {},
   "outputs": [
    {
     "data": {
      "text/plain": [
       "array([0.5, 0.6, 0.7, 0.8, 0.9, 1. , 1.1, 1.2, 1.3, 1.4, 1.5, 1.6, 1.7,\n",
       "       1.8, 1.9, 2. , 2.1, 2.2, 2.3, 2.4, 2.5, 2.6, 2.7, 2.8, 2.9, 3. ,\n",
       "       3.1, 3.2, 3.3, 3.4, 3.5, 3.6, 3.7, 3.8, 3.9])"
      ]
     },
     "execution_count": 7,
     "metadata": {},
     "output_type": "execute_result"
    }
   ],
   "source": [
    "distances"
   ]
  },
  {
   "cell_type": "code",
   "execution_count": 8,
   "id": "acc20d00",
   "metadata": {},
   "outputs": [
    {
     "data": {
      "text/plain": [
       "[-7.047909879814178,\n",
       " -7.3178406066899875,\n",
       " -7.503999888589233,\n",
       " -7.633380430851103,\n",
       " -7.722834592189438,\n",
       " -7.784021320448164,\n",
       " -7.82520275291316,\n",
       " -7.852161260058633,\n",
       " -7.868904084576936,\n",
       " -7.878230653191288,\n",
       " -7.8821399602353175,\n",
       " -7.882096599921154,\n",
       " -7.8791978711980715,\n",
       " -7.874280033933956,\n",
       " -7.867988787415271,\n",
       " -7.860828258230761,\n",
       " -7.853196249222231,\n",
       " -7.8454099164161235,\n",
       " -7.837724037354429,\n",
       " -7.830342952207782,\n",
       " -7.823426939851898,\n",
       " -7.8170942094941145,\n",
       " -7.811420600562359,\n",
       " -7.806439810199664,\n",
       " -7.802146652069217,\n",
       " -7.798504222561991,\n",
       " -7.795453823142569,\n",
       " -7.792925298736854,\n",
       " -7.790845717074498,\n",
       " -7.789145387260316,\n",
       " -7.78776126621167,\n",
       " -7.786638363119266,\n",
       " -7.785729858099107,\n",
       " -7.7849965239668935,\n",
       " -7.784405836830914]"
      ]
     },
     "execution_count": 8,
     "metadata": {},
     "output_type": "execute_result"
    }
   ],
   "source": [
    "vqe_energies"
   ]
  },
  {
   "cell_type": "code",
   "execution_count": null,
   "id": "ca02106b",
   "metadata": {},
   "outputs": [],
   "source": []
  },
  {
   "cell_type": "code",
   "execution_count": null,
   "id": "2eeb4d69",
   "metadata": {},
   "outputs": [],
   "source": []
  },
  {
   "cell_type": "code",
   "execution_count": 71,
   "id": "f9c8148e",
   "metadata": {},
   "outputs": [],
   "source": []
  },
  {
   "cell_type": "code",
   "execution_count": null,
   "id": "30896d4a",
   "metadata": {},
   "outputs": [],
   "source": []
  },
  {
   "cell_type": "code",
   "execution_count": null,
   "id": "24e0835c",
   "metadata": {},
   "outputs": [],
   "source": []
  },
  {
   "cell_type": "code",
   "execution_count": null,
   "id": "0a2e3637",
   "metadata": {},
   "outputs": [],
   "source": []
  },
  {
   "cell_type": "code",
   "execution_count": null,
   "id": "4fdba8ca",
   "metadata": {},
   "outputs": [],
   "source": []
  }
 ],
 "metadata": {
  "kernelspec": {
   "display_name": "Python 3 (ipykernel)",
   "language": "python",
   "name": "python3"
  },
  "language_info": {
   "codemirror_mode": {
    "name": "ipython",
    "version": 3
   },
   "file_extension": ".py",
   "mimetype": "text/x-python",
   "name": "python",
   "nbconvert_exporter": "python",
   "pygments_lexer": "ipython3",
   "version": "3.9.10"
  }
 },
 "nbformat": 4,
 "nbformat_minor": 5
}
